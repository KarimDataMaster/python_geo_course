{
 "cells": [
  {
   "cell_type": "markdown",
   "id": "859a6ec3-13ac-41d9-a6be-da351272bc08",
   "metadata": {},
   "source": [
    "# Урок 1: Введение в геоаналитику и инструменты работы с пространственными данными"
   ]
  },
  {
   "cell_type": "raw",
   "id": "1bf7cb3b-65c4-4657-9097-aa201a378533",
   "metadata": {},
   "source": [
    "В этом уроке мы познакомимся с основными понятиями геоаналитики, типами данных, с которыми мы будем работать, а также установим и настроим необходимые инструменты и библиотеки для работы с пространственными данными в Python."
   ]
  },
  {
   "cell_type": "markdown",
   "id": "f3360662-dfc1-484f-9505-b7c88922bcfe",
   "metadata": {},
   "source": [
    "## 1.1. Что такое геоаналитика?"
   ]
  },
  {
   "cell_type": "raw",
   "id": "5d0ba998-c460-42e5-af16-d7f06e3304ee",
   "metadata": {},
   "source": [
    "Геоаналитика — это область анализа данных, которая фокусируется на работе с пространственными (географическими) данными. Основная цель геоаналитики — анализировать и визуализировать информацию, связанную с конкретным местоположением на карте.\n",
    "\n",
    "Примеры задач геоаналитики:\n",
    "\n",
    "- Изучение распределения населения по территории.\n",
    "- Маркетинговый анализ с учетом географии клиентов.\n",
    "- Оптимизация маршрутов для логистических компаний.\n",
    "- Мониторинг изменений ландшафта с помощью спутниковых снимков.\n",
    "\n",
    "Типы пространственных данных:\n",
    "\n",
    "- Точечные данные: географические координаты, представляющие объекты на карте (например, офис компании, транспортные узлы).\n",
    "- Линейные данные: линии или траектории (например, дороги, реки).\n",
    "- Полигональные данные: полигоны, представляющие области (например, границы городов, зон покрытия).\n",
    "- Растровые данные: данные, представленные в виде пикселей (например, спутниковые снимки)."
   ]
  },
  {
   "cell_type": "markdown",
   "id": "e75f4ab0-dbfb-4531-b2f4-a29ad234b18d",
   "metadata": {},
   "source": [
    "## 1.2. Основные инструменты для работы с геоданными в Python"
   ]
  },
  {
   "cell_type": "raw",
   "id": "564d5480-4e55-48b2-bd11-8865c96f97fb",
   "metadata": {},
   "source": [
    "Для работы с геоданными в Python мы будем использовать несколько ключевых библиотек:\n",
    "\n",
    "GeoPandas – основная библиотека для работы с геоданными в формате GeoDataFrame. Она расширяет функциональность Pandas, добавляя поддержку геометрий (точки, линии, полигоны).\n",
    "Shapely – библиотека для работы с геометрическими объектами и проведения операций над ними (пересечения, объединения, буферизация).\n",
    "Fiona – библиотека для чтения и записи геопространственных данных в различных форматах (например, Shapefile, GeoJSON).\n",
    "Matplotlib – библиотека для визуализации данных, в том числе карт.\n",
    "Pyproj – библиотека для работы с системами координат и проекциями."
   ]
  },
  {
   "cell_type": "markdown",
   "id": "3a2d78d4-9d54-4491-9160-4d084a2e87a5",
   "metadata": {},
   "source": [
    "## 1.3. Установка и настройка окружения"
   ]
  },
  {
   "cell_type": "raw",
   "id": "7526ff4c-8c5e-428d-9145-f21595109d07",
   "metadata": {},
   "source": [
    "Для выполнения задач из курса нам потребуется установить несколько библиотек. Предлагаемый способ установки — использование conda (если вы используете Anaconda) или pip."
   ]
  },
  {
   "cell_type": "markdown",
   "id": "c97e9605-485c-4889-bf39-14a5253fd979",
   "metadata": {},
   "source": [
    "### Шаг 1: Установка Anaconda (опционально)"
   ]
  },
  {
   "cell_type": "raw",
   "id": "c33b8e5f-9ef5-4b78-aa96-8c8e5873aa35",
   "metadata": {},
   "source": [
    "Если у вас еще нет Anaconda, вы можете скачать и установить ее с официального сайта: Anaconda Download.\n",
    "\n",
    "Anaconda включает Python и множество библиотек для анализа данных, а также менеджер пакетов conda, который поможет вам легко установить зависимости."
   ]
  },
  {
   "cell_type": "markdown",
   "id": "04bab075-59f2-4138-b0b4-7a00651d9041",
   "metadata": {},
   "source": [
    "### Шаг 2: Установка необходимых библиотек"
   ]
  },
  {
   "cell_type": "raw",
   "id": "5123a264-8355-4a5c-bfe3-2da87cb28b3c",
   "metadata": {},
   "source": [
    "Чтобы установить все необходимые библиотеки, запустите командную строку (или терминал) и выполните следующие команды:"
   ]
  },
  {
   "cell_type": "markdown",
   "id": "8f94d964-e0c7-4532-89b1-e4ce375e6044",
   "metadata": {},
   "source": [
    "#### Через conda:"
   ]
  },
  {
   "cell_type": "code",
   "execution_count": null,
   "id": "8ca41def-74f0-4338-a676-deb14c5f1c24",
   "metadata": {},
   "outputs": [],
   "source": [
    "# Создание нового окружения\n",
    "conda create -n geoenv python=3.9\n",
    "\n",
    "# Активация окружения\n",
    "conda activate geoenv\n",
    "\n",
    "# Установка необходимых пакетов\n",
    "conda install geopandas shapely fiona matplotlib pyproj"
   ]
  },
  {
   "cell_type": "markdown",
   "id": "5c86d6a2-a928-4d73-916d-c14cf113ae83",
   "metadata": {},
   "source": [
    "#### Через pip (если вы не используете Anaconda):"
   ]
  },
  {
   "cell_type": "code",
   "execution_count": null,
   "id": "8d3c5854-144b-4d07-881b-ed5e04c5eb91",
   "metadata": {},
   "outputs": [],
   "source": [
    "# Установка библиотек через pip\n",
    "pip install geopandas shapely fiona matplotlib pyproj"
   ]
  },
  {
   "cell_type": "markdown",
   "id": "08c995d2-ef58-475c-983d-bfcce3c53484",
   "metadata": {},
   "source": [
    "### Шаг 3: Проверка установки"
   ]
  },
  {
   "cell_type": "raw",
   "id": "2f69e6e0-f09f-435d-ab9b-8ac585e001ec",
   "metadata": {},
   "source": [
    "Чтобы убедиться, что все работает корректно, откройте Python (или Jupyter Notebook) и выполните следующий код:"
   ]
  },
  {
   "cell_type": "code",
   "execution_count": 1,
   "id": "a0885fac-8428-41d0-b882-a423efc25c14",
   "metadata": {},
   "outputs": [
    {
     "name": "stdout",
     "output_type": "stream",
     "text": [
      "GeoPandas version: 0.14.2\n",
      "Shapely version: 2.0.1\n",
      "Fiona version: 1.9.6\n"
     ]
    }
   ],
   "source": [
    "import geopandas as gpd\n",
    "import shapely\n",
    "import fiona\n",
    "import matplotlib.pyplot as plt\n",
    "\n",
    "print(\"GeoPandas version:\", gpd.__version__)\n",
    "print(\"Shapely version:\", shapely.__version__)\n",
    "print(\"Fiona version:\", fiona.__version__)"
   ]
  },
  {
   "cell_type": "raw",
   "id": "0206975f-4183-4063-af7c-b3e9e25f631f",
   "metadata": {},
   "source": [
    "Если ошибок нет, значит окружение настроено корректно."
   ]
  },
  {
   "cell_type": "markdown",
   "id": "874aee99-2c0d-425c-8ac4-0ad7db967542",
   "metadata": {},
   "source": [
    "### 1.4. Базовая работа с пространственными данными"
   ]
  },
  {
   "cell_type": "raw",
   "id": "8bfa3ccc-4936-4742-b6f8-76369064ddbf",
   "metadata": {},
   "source": [
    "Теперь давайте рассмотрим, как работать с пространственными данными в Python, используя GeoPandas."
   ]
  },
  {
   "cell_type": "markdown",
   "id": "102e0e9d-80c4-40c2-ae2b-9c7a23e38683",
   "metadata": {},
   "source": [
    "#### Шаг 1: Загрузка данных"
   ]
  },
  {
   "cell_type": "raw",
   "id": "938a7c92-6ac5-41b4-8bdf-d4e08b02cb38",
   "metadata": {},
   "source": [
    "GeoPandas поддерживает множество форматов данных, включая Shapefile и GeoJSON.\n",
    "В качестве примера загрузим набор данных, содержащий границы мировых стран (в формате Shapefile):"
   ]
  },
  {
   "cell_type": "code",
   "execution_count": 2,
   "id": "50910a1a-ddf9-4b45-a7e0-c1db884e5a42",
   "metadata": {},
   "outputs": [],
   "source": [
    "import geopandas as gpd"
   ]
  },
  {
   "cell_type": "code",
   "execution_count": 3,
   "id": "f26a1bf2-d514-4e05-a404-47fdf2be5082",
   "metadata": {},
   "outputs": [
    {
     "name": "stderr",
     "output_type": "stream",
     "text": [
      "C:\\Users\\k.valiev\\AppData\\Local\\Temp\\ipykernel_10736\\3250413156.py:2: FutureWarning: The geopandas.dataset module is deprecated and will be removed in GeoPandas 1.0. You can get the original 'naturalearth_lowres' data from https://www.naturalearthdata.com/downloads/110m-cultural-vectors/.\n",
      "  world = gpd.read_file(gpd.datasets.get_path('naturalearth_lowres'))\n"
     ]
    }
   ],
   "source": [
    "# Загрузка данных о странах\n",
    "world = gpd.read_file(gpd.datasets.get_path('naturalearth_lowres'))"
   ]
  },
  {
   "cell_type": "code",
   "execution_count": 7,
   "id": "3c630b5d-6527-41ab-ad83-431c0c344448",
   "metadata": {},
   "outputs": [
    {
     "data": {
      "text/html": [
       "<div>\n",
       "<style scoped>\n",
       "    .dataframe tbody tr th:only-of-type {\n",
       "        vertical-align: middle;\n",
       "    }\n",
       "\n",
       "    .dataframe tbody tr th {\n",
       "        vertical-align: top;\n",
       "    }\n",
       "\n",
       "    .dataframe thead th {\n",
       "        text-align: right;\n",
       "    }\n",
       "</style>\n",
       "<table border=\"1\" class=\"dataframe\">\n",
       "  <thead>\n",
       "    <tr style=\"text-align: right;\">\n",
       "      <th></th>\n",
       "      <th>pop_est</th>\n",
       "      <th>continent</th>\n",
       "      <th>name</th>\n",
       "      <th>iso_a3</th>\n",
       "      <th>gdp_md_est</th>\n",
       "      <th>geometry</th>\n",
       "    </tr>\n",
       "  </thead>\n",
       "  <tbody>\n",
       "    <tr>\n",
       "      <th>0</th>\n",
       "      <td>889953.0</td>\n",
       "      <td>Oceania</td>\n",
       "      <td>Fiji</td>\n",
       "      <td>FJI</td>\n",
       "      <td>5496</td>\n",
       "      <td>MULTIPOLYGON (((180.00000 -16.06713, 180.00000...</td>\n",
       "    </tr>\n",
       "    <tr>\n",
       "      <th>1</th>\n",
       "      <td>58005463.0</td>\n",
       "      <td>Africa</td>\n",
       "      <td>Tanzania</td>\n",
       "      <td>TZA</td>\n",
       "      <td>63177</td>\n",
       "      <td>POLYGON ((33.90371 -0.95000, 34.07262 -1.05982...</td>\n",
       "    </tr>\n",
       "    <tr>\n",
       "      <th>2</th>\n",
       "      <td>603253.0</td>\n",
       "      <td>Africa</td>\n",
       "      <td>W. Sahara</td>\n",
       "      <td>ESH</td>\n",
       "      <td>907</td>\n",
       "      <td>POLYGON ((-8.66559 27.65643, -8.66512 27.58948...</td>\n",
       "    </tr>\n",
       "    <tr>\n",
       "      <th>3</th>\n",
       "      <td>37589262.0</td>\n",
       "      <td>North America</td>\n",
       "      <td>Canada</td>\n",
       "      <td>CAN</td>\n",
       "      <td>1736425</td>\n",
       "      <td>MULTIPOLYGON (((-122.84000 49.00000, -122.9742...</td>\n",
       "    </tr>\n",
       "    <tr>\n",
       "      <th>4</th>\n",
       "      <td>328239523.0</td>\n",
       "      <td>North America</td>\n",
       "      <td>United States of America</td>\n",
       "      <td>USA</td>\n",
       "      <td>21433226</td>\n",
       "      <td>MULTIPOLYGON (((-122.84000 49.00000, -120.0000...</td>\n",
       "    </tr>\n",
       "  </tbody>\n",
       "</table>\n",
       "</div>"
      ],
      "text/plain": [
       "       pop_est      continent                      name iso_a3  gdp_md_est  \\\n",
       "0     889953.0        Oceania                      Fiji    FJI        5496   \n",
       "1   58005463.0         Africa                  Tanzania    TZA       63177   \n",
       "2     603253.0         Africa                 W. Sahara    ESH         907   \n",
       "3   37589262.0  North America                    Canada    CAN     1736425   \n",
       "4  328239523.0  North America  United States of America    USA    21433226   \n",
       "\n",
       "                                            geometry  \n",
       "0  MULTIPOLYGON (((180.00000 -16.06713, 180.00000...  \n",
       "1  POLYGON ((33.90371 -0.95000, 34.07262 -1.05982...  \n",
       "2  POLYGON ((-8.66559 27.65643, -8.66512 27.58948...  \n",
       "3  MULTIPOLYGON (((-122.84000 49.00000, -122.9742...  \n",
       "4  MULTIPOLYGON (((-122.84000 49.00000, -120.0000...  "
      ]
     },
     "execution_count": 7,
     "metadata": {},
     "output_type": "execute_result"
    }
   ],
   "source": [
    "# Вывод первых строк данных\n",
    "world.head(5)"
   ]
  },
  {
   "cell_type": "markdown",
   "id": "e222d35f-0216-4f15-bc42-52b5aa5a23f8",
   "metadata": {},
   "source": [
    "#### Шаг 2: Визуализация данных"
   ]
  },
  {
   "cell_type": "raw",
   "id": "6c76558f-5088-4289-a79d-33358e6e47e6",
   "metadata": {},
   "source": [
    "GeoPandas позволяет легко визуализировать данные:"
   ]
  },
  {
   "cell_type": "code",
   "execution_count": 8,
   "id": "fddadd90-f029-495e-b153-ce8d90069b2b",
   "metadata": {},
   "outputs": [
    {
     "data": {
      "image/png": "[encoded data removed]",
      "text/plain": [
       "<Figure size 640x480 with 1 Axes>"
      ]
     },
     "metadata": {},
     "output_type": "display_data"
    }
   ],
   "source": [
    "# Простая визуализация\n",
    "world.plot()\n",
    "plt.show()"
   ]
  },
  {
   "cell_type": "raw",
   "id": "54f92d8d-b1d5-495e-a435-f1a0f897d9f6",
   "metadata": {},
   "source": [
    "Это отобразит карту мира с границами стран."
   ]
  },
  {
   "cell_type": "markdown",
   "id": "ed75d57c-4255-40e9-919d-6728106d6140",
   "metadata": {},
   "source": [
    "#### Шаг 3: Основные операции с пространственными данными"
   ]
  },
  {
   "cell_type": "raw",
   "id": "c726023a-4acd-4251-9a2c-035dd1df18e7",
   "metadata": {},
   "source": [
    "Выбор страны по атрибуту (например, по имени):"
   ]
  },
  {
   "cell_type": "code",
   "execution_count": 10,
   "id": "118c4367-3dbf-4617-8cd6-1f421af60f9a",
   "metadata": {},
   "outputs": [
    {
     "data": {
      "text/html": [
       "<div>\n",
       "<style scoped>\n",
       "    .dataframe tbody tr th:only-of-type {\n",
       "        vertical-align: middle;\n",
       "    }\n",
       "\n",
       "    .dataframe tbody tr th {\n",
       "        vertical-align: top;\n",
       "    }\n",
       "\n",
       "    .dataframe thead th {\n",
       "        text-align: right;\n",
       "    }\n",
       "</style>\n",
       "<table border=\"1\" class=\"dataframe\">\n",
       "  <thead>\n",
       "    <tr style=\"text-align: right;\">\n",
       "      <th></th>\n",
       "      <th>pop_est</th>\n",
       "      <th>continent</th>\n",
       "      <th>name</th>\n",
       "      <th>iso_a3</th>\n",
       "      <th>gdp_md_est</th>\n",
       "      <th>geometry</th>\n",
       "    </tr>\n",
       "  </thead>\n",
       "  <tbody>\n",
       "    <tr>\n",
       "      <th>18</th>\n",
       "      <td>144373535.0</td>\n",
       "      <td>Europe</td>\n",
       "      <td>Russia</td>\n",
       "      <td>RUS</td>\n",
       "      <td>1699876</td>\n",
       "      <td>MULTIPOLYGON (((180.00000 71.51571, 180.00000 ...</td>\n",
       "    </tr>\n",
       "  </tbody>\n",
       "</table>\n",
       "</div>"
      ],
      "text/plain": [
       "        pop_est continent    name iso_a3  gdp_md_est  \\\n",
       "18  144373535.0    Europe  Russia    RUS     1699876   \n",
       "\n",
       "                                             geometry  \n",
       "18  MULTIPOLYGON (((180.00000 71.51571, 180.00000 ...  "
      ]
     },
     "execution_count": 10,
     "metadata": {},
     "output_type": "execute_result"
    }
   ],
   "source": [
    "russia = world[world['name'] == 'Russia']\n",
    "russia"
   ]
  },
  {
   "cell_type": "raw",
   "id": "ffefe84c-6525-4935-b38f-24672f10f825",
   "metadata": {},
   "source": [
    "Фильтрация по условию (например, страны с населением больше 100 миллионов):"
   ]
  },
  {
   "cell_type": "code",
   "execution_count": 11,
   "id": "efdb5e9d-99d0-48b9-ac85-8e574d6edb5a",
   "metadata": {},
   "outputs": [
    {
     "data": {
      "image/png": "[encoded data removed]",
      "text/plain": [
       "<Figure size 640x480 with 1 Axes>"
      ]
     },
     "metadata": {},
     "output_type": "display_data"
    }
   ],
   "source": [
    "large_population = world[world['pop_est'] > 100000000]\n",
    "large_population.plot()\n",
    "plt.show()"
   ]
  },
  {
   "cell_type": "raw",
   "id": "68efc66d-96d7-4662-8c04-ccd78ecbdeac",
   "metadata": {},
   "source": [
    "Операции с геометрией (например, создание буфера):"
   ]
  },
  {
   "cell_type": "code",
   "execution_count": 12,
   "id": "3ff9a57d-37bd-4763-8ba5-625f15164a2a",
   "metadata": {},
   "outputs": [
    {
     "name": "stderr",
     "output_type": "stream",
     "text": [
      "C:\\Users\\k.valiev\\AppData\\Local\\Temp\\ipykernel_10736\\4171276550.py:1: UserWarning: Geometry is in a geographic CRS. Results from 'buffer' are likely incorrect. Use 'GeoSeries.to_crs()' to re-project geometries to a projected CRS before this operation.\n",
      "\n",
      "  russia_buffer = russia.buffer(1)  # Создаем буфер вокруг границ России\n"
     ]
    },
    {
     "data": {
      "image/png": "[encoded data removed]",
      "text/plain": [
       "<Figure size 640x480 with 1 Axes>"
      ]
     },
     "metadata": {},
     "output_type": "display_data"
    }
   ],
   "source": [
    "russia_buffer = russia.buffer(1)  # Создаем буфер вокруг границ России\n",
    "russia_buffer.plot()\n",
    "plt.show()"
   ]
  },
  {
   "cell_type": "raw",
   "id": "02281011-d20d-4e3b-ad9b-be01f7807af6",
   "metadata": {},
   "source": [
    "Вычисление площади:"
   ]
  },
  {
   "cell_type": "code",
   "execution_count": 13,
   "id": "25e72d97-5835-4a39-a61b-20a5e42312a4",
   "metadata": {},
   "outputs": [
    {
     "name": "stderr",
     "output_type": "stream",
     "text": [
      "C:\\Users\\k.valiev\\AppData\\Local\\Temp\\ipykernel_10736\\690557827.py:1: UserWarning: Geometry is in a geographic CRS. Results from 'area' are likely incorrect. Use 'GeoSeries.to_crs()' to re-project geometries to a projected CRS before this operation.\n",
      "\n",
      "  world['area'] = world['geometry'].area\n"
     ]
    },
    {
     "data": {
      "text/html": [
       "<div>\n",
       "<style scoped>\n",
       "    .dataframe tbody tr th:only-of-type {\n",
       "        vertical-align: middle;\n",
       "    }\n",
       "\n",
       "    .dataframe tbody tr th {\n",
       "        vertical-align: top;\n",
       "    }\n",
       "\n",
       "    .dataframe thead th {\n",
       "        text-align: right;\n",
       "    }\n",
       "</style>\n",
       "<table border=\"1\" class=\"dataframe\">\n",
       "  <thead>\n",
       "    <tr style=\"text-align: right;\">\n",
       "      <th></th>\n",
       "      <th>name</th>\n",
       "      <th>area</th>\n",
       "    </tr>\n",
       "  </thead>\n",
       "  <tbody>\n",
       "    <tr>\n",
       "      <th>0</th>\n",
       "      <td>Fiji</td>\n",
       "      <td>1.639511</td>\n",
       "    </tr>\n",
       "    <tr>\n",
       "      <th>1</th>\n",
       "      <td>Tanzania</td>\n",
       "      <td>76.301964</td>\n",
       "    </tr>\n",
       "    <tr>\n",
       "      <th>2</th>\n",
       "      <td>W. Sahara</td>\n",
       "      <td>8.603984</td>\n",
       "    </tr>\n",
       "    <tr>\n",
       "      <th>3</th>\n",
       "      <td>Canada</td>\n",
       "      <td>1712.995228</td>\n",
       "    </tr>\n",
       "    <tr>\n",
       "      <th>4</th>\n",
       "      <td>United States of America</td>\n",
       "      <td>1122.281921</td>\n",
       "    </tr>\n",
       "  </tbody>\n",
       "</table>\n",
       "</div>"
      ],
      "text/plain": [
       "                       name         area\n",
       "0                      Fiji     1.639511\n",
       "1                  Tanzania    76.301964\n",
       "2                 W. Sahara     8.603984\n",
       "3                    Canada  1712.995228\n",
       "4  United States of America  1122.281921"
      ]
     },
     "execution_count": 13,
     "metadata": {},
     "output_type": "execute_result"
    }
   ],
   "source": [
    "world['area'] = world['geometry'].area\n",
    "world[['name', 'area']].head()"
   ]
  },
  {
   "cell_type": "markdown",
   "id": "56916b3e-46dd-45e6-82be-6c848dd74296",
   "metadata": {},
   "source": [
    "### 1.5. Домашнее задание"
   ]
  },
  {
   "cell_type": "raw",
   "id": "a0565999-8585-4afe-af14-fa9015f8ce0f",
   "metadata": {},
   "source": [
    "Для закрепления материала выполните следующее задание:\n",
    "\n",
    "- Загрузите набор данных с границами стран (как показано выше).\n",
    "- Выберите страны с населением больше 50 миллионов человек и визуализируйте их на карте.\n",
    "- Создайте буфер (например, радиусом 1 градус) вокруг границ выбранных стран и отобразите этот буфер на карте.\n",
    "- Посчитайте площадь каждой страны и добавьте этот атрибут в таблицу данных. Выведите страны с наибольшей площадью."
   ]
  },
  {
   "cell_type": "raw",
   "id": "5d04cee9-c595-457a-a6f4-24458b2cc243",
   "metadata": {},
   "source": [
    "Пример кода для домашнего задания:"
   ]
  },
  {
   "cell_type": "code",
   "execution_count": 16,
   "id": "74f4265a-e143-498b-8f8f-02a9663f8059",
   "metadata": {},
   "outputs": [
    {
     "name": "stderr",
     "output_type": "stream",
     "text": [
      "C:\\Users\\k.valiev\\AppData\\Local\\Temp\\ipykernel_10736\\1337878633.py:5: FutureWarning: The geopandas.dataset module is deprecated and will be removed in GeoPandas 1.0. You can get the original 'naturalearth_lowres' data from https://www.naturalearthdata.com/downloads/110m-cultural-vectors/.\n",
      "  world = gpd.read_file(gpd.datasets.get_path('naturalearth_lowres'))\n",
      "C:\\Users\\k.valiev\\AppData\\Local\\Temp\\ipykernel_10736\\1337878633.py:11: UserWarning: Geometry is in a geographic CRS. Results from 'buffer' are likely incorrect. Use 'GeoSeries.to_crs()' to re-project geometries to a projected CRS before this operation.\n",
      "\n",
      "  large_countries['buffer'] = large_countries.geometry.buffer(0.5)\n",
      "C:\\Users\\k.valiev\\AppData\\Local\\anaconda3\\envs\\geo\\Lib\\site-packages\\geopandas\\geodataframe.py:1543: SettingWithCopyWarning: \n",
      "A value is trying to be set on a copy of a slice from a DataFrame.\n",
      "Try using .loc[row_indexer,col_indexer] = value instead\n",
      "\n",
      "See the caveats in the documentation: https://pandas.pydata.org/pandas-docs/stable/user_guide/indexing.html#returning-a-view-versus-a-copy\n",
      "  super().__setitem__(key, value)\n"
     ]
    },
    {
     "data": {
      "image/png": "[encoded data removed]",
      "text/plain": [
       "<Figure size 640x480 with 1 Axes>"
      ]
     },
     "metadata": {},
     "output_type": "display_data"
    },
    {
     "name": "stderr",
     "output_type": "stream",
     "text": [
      "C:\\Users\\k.valiev\\AppData\\Local\\Temp\\ipykernel_10736\\1337878633.py:20: UserWarning: Geometry is in a geographic CRS. Results from 'area' are likely incorrect. Use 'GeoSeries.to_crs()' to re-project geometries to a projected CRS before this operation.\n",
      "\n",
      "  large_countries['area'] = large_countries.geometry.area\n",
      "C:\\Users\\k.valiev\\AppData\\Local\\anaconda3\\envs\\geo\\Lib\\site-packages\\geopandas\\geodataframe.py:1543: SettingWithCopyWarning: \n",
      "A value is trying to be set on a copy of a slice from a DataFrame.\n",
      "Try using .loc[row_indexer,col_indexer] = value instead\n",
      "\n",
      "See the caveats in the documentation: https://pandas.pydata.org/pandas-docs/stable/user_guide/indexing.html#returning-a-view-versus-a-copy\n",
      "  super().__setitem__(key, value)\n"
     ]
    },
    {
     "data": {
      "text/html": [
       "<div>\n",
       "<style scoped>\n",
       "    .dataframe tbody tr th:only-of-type {\n",
       "        vertical-align: middle;\n",
       "    }\n",
       "\n",
       "    .dataframe tbody tr th {\n",
       "        vertical-align: top;\n",
       "    }\n",
       "\n",
       "    .dataframe thead th {\n",
       "        text-align: right;\n",
       "    }\n",
       "</style>\n",
       "<table border=\"1\" class=\"dataframe\">\n",
       "  <thead>\n",
       "    <tr style=\"text-align: right;\">\n",
       "      <th></th>\n",
       "      <th>name</th>\n",
       "      <th>area</th>\n",
       "    </tr>\n",
       "  </thead>\n",
       "  <tbody>\n",
       "    <tr>\n",
       "      <th>99</th>\n",
       "      <td>Bangladesh</td>\n",
       "      <td>11.857175</td>\n",
       "    </tr>\n",
       "    <tr>\n",
       "      <th>147</th>\n",
       "      <td>Philippines</td>\n",
       "      <td>24.289232</td>\n",
       "    </tr>\n",
       "    <tr>\n",
       "      <th>155</th>\n",
       "      <td>Japan</td>\n",
       "      <td>41.405110</td>\n",
       "    </tr>\n",
       "    <tr>\n",
       "      <th>56</th>\n",
       "      <td>Nigeria</td>\n",
       "      <td>74.591712</td>\n",
       "    </tr>\n",
       "    <tr>\n",
       "      <th>102</th>\n",
       "      <td>Pakistan</td>\n",
       "      <td>81.855805</td>\n",
       "    </tr>\n",
       "    <tr>\n",
       "      <th>163</th>\n",
       "      <td>Egypt</td>\n",
       "      <td>90.395960</td>\n",
       "    </tr>\n",
       "    <tr>\n",
       "      <th>165</th>\n",
       "      <td>Ethiopia</td>\n",
       "      <td>93.130693</td>\n",
       "    </tr>\n",
       "    <tr>\n",
       "      <th>8</th>\n",
       "      <td>Indonesia</td>\n",
       "      <td>148.135821</td>\n",
       "    </tr>\n",
       "    <tr>\n",
       "      <th>27</th>\n",
       "      <td>Mexico</td>\n",
       "      <td>175.207341</td>\n",
       "    </tr>\n",
       "    <tr>\n",
       "      <th>98</th>\n",
       "      <td>India</td>\n",
       "      <td>277.924713</td>\n",
       "    </tr>\n",
       "    <tr>\n",
       "      <th>29</th>\n",
       "      <td>Brazil</td>\n",
       "      <td>710.185243</td>\n",
       "    </tr>\n",
       "    <tr>\n",
       "      <th>139</th>\n",
       "      <td>China</td>\n",
       "      <td>954.635341</td>\n",
       "    </tr>\n",
       "    <tr>\n",
       "      <th>4</th>\n",
       "      <td>United States of America</td>\n",
       "      <td>1122.281921</td>\n",
       "    </tr>\n",
       "    <tr>\n",
       "      <th>18</th>\n",
       "      <td>Russia</td>\n",
       "      <td>2931.831946</td>\n",
       "    </tr>\n",
       "  </tbody>\n",
       "</table>\n",
       "</div>"
      ],
      "text/plain": [
       "                         name         area\n",
       "99                 Bangladesh    11.857175\n",
       "147               Philippines    24.289232\n",
       "155                     Japan    41.405110\n",
       "56                    Nigeria    74.591712\n",
       "102                  Pakistan    81.855805\n",
       "163                     Egypt    90.395960\n",
       "165                  Ethiopia    93.130693\n",
       "8                   Indonesia   148.135821\n",
       "27                     Mexico   175.207341\n",
       "98                      India   277.924713\n",
       "29                     Brazil   710.185243\n",
       "139                     China   954.635341\n",
       "4    United States of America  1122.281921\n",
       "18                     Russia  2931.831946"
      ]
     },
     "execution_count": 16,
     "metadata": {},
     "output_type": "execute_result"
    }
   ],
   "source": [
    "import geopandas as gpd\n",
    "import matplotlib.pyplot as plt\n",
    "\n",
    "# Шаг 1: Загрузка данных\n",
    "world = gpd.read_file(gpd.datasets.get_path('naturalearth_lowres'))\n",
    "\n",
    "# Шаг 2: Фильтрация стран с населением более 100 миллионов\n",
    "large_countries = world[world['pop_est'] >= 100000000]\n",
    "\n",
    "# Шаг 3: Создание буфера вокруг стран\n",
    "large_countries['buffer'] = large_countries.geometry.buffer(0.5)\n",
    "\n",
    "# Шаг 4: Визуализация стран с буфером\n",
    "fig, ax = plt.subplots()\n",
    "large_countries.plot(ax=ax, color='blue')\n",
    "large_countries['buffer'].plot(ax=ax, color='red', alpha=0.5)\n",
    "plt.show()\n",
    "\n",
    "# Шаг 5: Вычисление площади и вывод стран с наименьшей площадью\n",
    "large_countries['area'] = large_countries.geometry.area\n",
    "large_countries[['name', 'area']].sort_values(by='area', ascending=True)"
   ]
  },
  {
   "cell_type": "markdown",
   "id": "69f3434e-faa6-410c-9c68-507eea016ee6",
   "metadata": {},
   "source": [
    "### Дополнительная информация"
   ]
  },
  {
   "cell_type": "markdown",
   "id": "3c88c907-aa90-47fe-a1c9-9848d79803ba",
   "metadata": {},
   "source": [
    "#### Проекции и системы координат (CRS):"
   ]
  },
  {
   "cell_type": "raw",
   "id": "e8597dbc-0110-4163-8d8a-afadefef2a22",
   "metadata": {},
   "source": [
    "Пространственные данные могут быть представлены в разных координатных системах (например, WGS 84, UTM).\n",
    "GeoPandas поддерживает преобразование систем координат с помощью метода to_crs().\n",
    "Пример:"
   ]
  },
  {
   "cell_type": "code",
   "execution_count": 25,
   "id": "9516f9ac-5e5b-4bc9-92b8-775d9846cf71",
   "metadata": {},
   "outputs": [
    {
     "data": {
      "text/plain": [
       "['Afghanistan',\n",
       " 'Albania',\n",
       " 'Algeria',\n",
       " 'Angola',\n",
       " 'Antarctica',\n",
       " 'Argentina',\n",
       " 'Armenia',\n",
       " 'Australia',\n",
       " 'Austria',\n",
       " 'Azerbaijan',\n",
       " 'Bahamas',\n",
       " 'Bangladesh',\n",
       " 'Belarus',\n",
       " 'Belgium',\n",
       " 'Belize',\n",
       " 'Benin',\n",
       " 'Bhutan',\n",
       " 'Bolivia',\n",
       " 'Bosnia and Herz.',\n",
       " 'Botswana',\n",
       " 'Brazil',\n",
       " 'Brunei',\n",
       " 'Bulgaria',\n",
       " 'Burkina Faso',\n",
       " 'Burundi',\n",
       " 'Cambodia',\n",
       " 'Cameroon',\n",
       " 'Canada',\n",
       " 'Central African Rep.',\n",
       " 'Chad',\n",
       " 'Chile',\n",
       " 'China',\n",
       " 'Colombia',\n",
       " 'Congo',\n",
       " 'Costa Rica',\n",
       " 'Croatia',\n",
       " 'Cuba',\n",
       " 'Cyprus',\n",
       " 'Czechia',\n",
       " \"Côte d'Ivoire\",\n",
       " 'Dem. Rep. Congo',\n",
       " 'Denmark',\n",
       " 'Djibouti',\n",
       " 'Dominican Rep.',\n",
       " 'Ecuador',\n",
       " 'Egypt',\n",
       " 'El Salvador',\n",
       " 'Eq. Guinea',\n",
       " 'Eritrea',\n",
       " 'Estonia',\n",
       " 'Ethiopia',\n",
       " 'Falkland Is.',\n",
       " 'Fiji',\n",
       " 'Finland',\n",
       " 'Fr. S. Antarctic Lands',\n",
       " 'France',\n",
       " 'Gabon',\n",
       " 'Gambia',\n",
       " 'Georgia',\n",
       " 'Germany',\n",
       " 'Ghana',\n",
       " 'Greece',\n",
       " 'Greenland',\n",
       " 'Guatemala',\n",
       " 'Guinea',\n",
       " 'Guinea-Bissau',\n",
       " 'Guyana',\n",
       " 'Haiti',\n",
       " 'Honduras',\n",
       " 'Hungary',\n",
       " 'Iceland',\n",
       " 'India',\n",
       " 'Indonesia',\n",
       " 'Iran',\n",
       " 'Iraq',\n",
       " 'Ireland',\n",
       " 'Israel',\n",
       " 'Italy',\n",
       " 'Jamaica',\n",
       " 'Japan',\n",
       " 'Jordan',\n",
       " 'Kazakhstan',\n",
       " 'Kenya',\n",
       " 'Kosovo',\n",
       " 'Kuwait',\n",
       " 'Kyrgyzstan',\n",
       " 'Laos',\n",
       " 'Latvia',\n",
       " 'Lebanon',\n",
       " 'Lesotho',\n",
       " 'Liberia',\n",
       " 'Libya',\n",
       " 'Lithuania',\n",
       " 'Luxembourg',\n",
       " 'Madagascar',\n",
       " 'Malawi',\n",
       " 'Malaysia',\n",
       " 'Mali',\n",
       " 'Mauritania',\n",
       " 'Mexico',\n",
       " 'Moldova',\n",
       " 'Mongolia',\n",
       " 'Montenegro',\n",
       " 'Morocco',\n",
       " 'Mozambique',\n",
       " 'Myanmar',\n",
       " 'N. Cyprus',\n",
       " 'Namibia',\n",
       " 'Nepal',\n",
       " 'Netherlands',\n",
       " 'New Caledonia',\n",
       " 'New Zealand',\n",
       " 'Nicaragua',\n",
       " 'Niger',\n",
       " 'Nigeria',\n",
       " 'North Korea',\n",
       " 'North Macedonia',\n",
       " 'Norway',\n",
       " 'Oman',\n",
       " 'Pakistan',\n",
       " 'Palestine',\n",
       " 'Panama',\n",
       " 'Papua New Guinea',\n",
       " 'Paraguay',\n",
       " 'Peru',\n",
       " 'Philippines',\n",
       " 'Poland',\n",
       " 'Portugal',\n",
       " 'Puerto Rico',\n",
       " 'Qatar',\n",
       " 'Romania',\n",
       " 'Russia',\n",
       " 'Rwanda',\n",
       " 'S. Sudan',\n",
       " 'Saudi Arabia',\n",
       " 'Senegal',\n",
       " 'Serbia',\n",
       " 'Sierra Leone',\n",
       " 'Slovakia',\n",
       " 'Slovenia',\n",
       " 'Solomon Is.',\n",
       " 'Somalia',\n",
       " 'Somaliland',\n",
       " 'South Africa',\n",
       " 'South Korea',\n",
       " 'Spain',\n",
       " 'Sri Lanka',\n",
       " 'Sudan',\n",
       " 'Suriname',\n",
       " 'Sweden',\n",
       " 'Switzerland',\n",
       " 'Syria',\n",
       " 'Taiwan',\n",
       " 'Tajikistan',\n",
       " 'Tanzania',\n",
       " 'Thailand',\n",
       " 'Timor-Leste',\n",
       " 'Togo',\n",
       " 'Trinidad and Tobago',\n",
       " 'Tunisia',\n",
       " 'Turkey',\n",
       " 'Turkmenistan',\n",
       " 'Uganda',\n",
       " 'Ukraine',\n",
       " 'United Arab Emirates',\n",
       " 'United Kingdom',\n",
       " 'United States of America',\n",
       " 'Uruguay',\n",
       " 'Uzbekistan',\n",
       " 'Vanuatu',\n",
       " 'Venezuela',\n",
       " 'Vietnam',\n",
       " 'W. Sahara',\n",
       " 'Yemen',\n",
       " 'Zambia',\n",
       " 'Zimbabwe',\n",
       " 'eSwatini']"
      ]
     },
     "execution_count": 25,
     "metadata": {},
     "output_type": "execute_result"
    }
   ],
   "source": [
    "# Посмотреть список названий стран\n",
    "world['name'].sort_values().tolist()"
   ]
  },
  {
   "cell_type": "code",
   "execution_count": 27,
   "id": "038e57f8-c7a6-4ddf-8a83-ebad9a7cdbd8",
   "metadata": {},
   "outputs": [
    {
     "data": {
      "image/png": "[encoded data removed]",
      "text/plain": [
       "<Figure size 640x480 with 1 Axes>"
      ]
     },
     "metadata": {},
     "output_type": "display_data"
    }
   ],
   "source": [
    "# Преобразование в другую систему координат (например, UTM)\n",
    "uae_utm = world[world['name'] == 'United Arab Emirates'].to_crs(epsg=32633)  # UTM zone 33N\n",
    "uae_utm.plot()\n",
    "plt.show()"
   ]
  },
  {
   "cell_type": "markdown",
   "id": "5dd11cec-1015-4cc6-983c-89583f583f7d",
   "metadata": {},
   "source": [
    "#### Где взять геоданные?:"
   ]
  },
  {
   "cell_type": "raw",
   "id": "b8ae2569-28db-4332-8066-47d018402187",
   "metadata": {},
   "source": [
    "GeoPandas встроенные датасеты: можно использовать встроенные наборы данных для тренировок.\n",
    "\n",
    "Публичные источники данных:\n",
    "- Natural Earth\n",
    "- OpenStreetMap\n",
    "- DataHub"
   ]
  },
  {
   "cell_type": "markdown",
   "id": "798312a1-6069-4de1-9c27-316aea43d6de",
   "metadata": {},
   "source": [
    "### Выводы"
   ]
  },
  {
   "cell_type": "raw",
   "id": "950683b3-64ab-42eb-b4ff-d08dc662478b",
   "metadata": {},
   "source": [
    "В этом уроке мы познакомились с основными понятиями геоаналитики и инструментами для работы с пространственными данными в Python. Мы научились загружать, визуализировать и обрабатывать данные с использованием библиотек GeoPandas и Shapely. В домашнем задании студентам предстоит закрепить эти навыки на практике."
   ]
  }
 ],
 "metadata": {
  "kernelspec": {
   "display_name": "geo",
   "language": "python",
   "name": "geo"
  },
  "language_info": {
   "codemirror_mode": {
    "name": "ipython",
    "version": 3
   },
   "file_extension": ".py",
   "mimetype": "text/x-python",
   "name": "python",
   "nbconvert_exporter": "python",
   "pygments_lexer": "ipython3",
   "version": "3.12.2"
  }
 },
 "nbformat": 4,
 "nbformat_minor": 5
}
